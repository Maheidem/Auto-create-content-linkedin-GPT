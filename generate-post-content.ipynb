{
 "cells": [
  {
   "cell_type": "code",
   "execution_count": 87,
   "metadata": {},
   "outputs": [],
   "source": [
    "import requests\n",
    "import openai\n",
    "from utils.ln_oauth import auth, headers, read_creds"
   ]
  },
  {
   "cell_type": "code",
   "execution_count": 54,
   "metadata": {},
   "outputs": [],
   "source": [
    "def __user_info(headers):\n",
    "    '''\n",
    "    Get user information from Linkedin\n",
    "    '''\n",
    "    response = requests.get('https://api.linkedin.com/v2/me', headers = headers)\n",
    "    user_info = response.json()\n",
    "    return user_info"
   ]
  },
  {
   "cell_type": "code",
   "execution_count": 96,
   "metadata": {},
   "outputs": [],
   "source": [
    "def generate_post(prompt, openai):\n",
    "\n",
    "    model = \"text-davinci-003\"\n",
    "\n",
    "    completions = openai.Completion.create(\n",
    "        engine=model,\n",
    "        prompt=prompt,\n",
    "        max_tokens=2048,\n",
    "        n=1,\n",
    "        stop=None,\n",
    "        temperature=0.9,\n",
    "    )\n",
    "\n",
    "    # Get the first generated content\n",
    "    generated_text = completions.choices[0].text\n",
    "    return generated_text   "
   ]
  },
  {
   "cell_type": "code",
   "execution_count": 93,
   "metadata": {},
   "outputs": [],
   "source": [
    "def post_linkedin(access_token, prompt, headers):\n",
    "    headers = headers(access_token) # Make the headers to attach to the API call.\n",
    "    user_info = __user_info(headers) # Get user info\n",
    "\n",
    "    urn = user_info['id']\n",
    "    author = f'urn:li:person:{urn}'\n",
    "    api_url = 'https://api.linkedin.com/v2/ugcPosts'\n",
    "\n",
    "    message = prompt+\"\\n\\n**Este post foi gerado pelo ChatGPT como um experiemento**\"\n",
    "\n",
    "    post_data = {\n",
    "        \"author\": author,\n",
    "        \"lifecycleState\": \"PUBLISHED\",\n",
    "        \"specificContent\": {\n",
    "            \"com.linkedin.ugc.ShareContent\": {\n",
    "                \"shareCommentary\": {\n",
    "                    \"text\": message\n",
    "                },\n",
    "                \"shareMediaCategory\": \"NONE\"\n",
    "            }\n",
    "        },\n",
    "        \"visibility\": {\n",
    "            \"com.linkedin.ugc.MemberNetworkVisibility\": \"PUBLIC\"\n",
    "        }\n",
    "    }\n",
    "\n",
    "    r = requests.post(api_url, headers=headers, json=post_data)\n",
    "    \n",
    "    return r.json()"
   ]
  },
  {
   "cell_type": "code",
   "execution_count": null,
   "metadata": {},
   "outputs": [],
   "source": [
    "credentials = 'credentials.json'\n",
    "credentials_dict = read_creds(credentials)\n",
    "access_token = auth(credentials) # Authenticate the API\n",
    "\n",
    "# Get OpenAI - API key\n",
    "openai.api_key = credentials_dict['openai_access_token']"
   ]
  },
  {
   "cell_type": "code",
   "execution_count": 101,
   "metadata": {},
   "outputs": [],
   "source": [
    "# What you are asking for GPT-3 to create\n",
    "prompt = \"\"\"\n",
    "Imagine que voce é um cientista de dados senior, e quer começar a postar no linkedin de forma difundir conhecimento sobre o mundo de ciencia de dados\n",
    "Voce quer falar sobre temas ou tecnologias relevante para o mundo de ciencia de dados.\n",
    "Gere um post\n",
    "\"\"\""
   ]
  },
  {
   "cell_type": "code",
   "execution_count": 103,
   "metadata": {},
   "outputs": [
    {
     "name": "stdout",
     "output_type": "stream",
     "text": [
      "\n",
      "Recentemente, tem havido um grande aumento da adoção de tecnologias de aprendizado de máquina. Estas tecnologias têm sido utilizadas em uma ampla gama de domínios, desde a agricultura até o marketing digital. Como cientista de dados senior, eu tenho sentido a responsabilidade de disseminar informações sobre como essas tecnologias podem ser usadas para solucionar oportunidades de negócios. Hoje compartilho algumas dicas para ajudar quem quer começar a usar aprendizado de máquina:\n",
      "\n",
      "• Entenda os problemas específicos que você quer resolver antes de começar a usar aprendizado de máquina.\n",
      "• Examine os dados que você tem à sua disposição para testar seu modelo de aprendizado de máquina.\n",
      "• Comece com algoritmos simples, como regressão linear, para entender melhor o comportamento dos dados e os padrões que ocorrem neles.\n",
      "• Utilize técnicas de validação cruzada e avaliação para escolher o melhor modelo para os dados.\n",
      "• Use as métricas apropriadas para medir o desempenho do seu modelo.\n",
      "• Teste seu modelo em diferentes conjuntos de dados para melhorar o seu desempenho.\n",
      "\n",
      "Espero que essas dicas sejam úteis para quem quiser começar a usar aprendizado de máquina, e eu ficarei feliz em compartilhar mais recursos. #MachineLearning #DataScience\n"
     ]
    }
   ],
   "source": [
    "generated_text = generate_post(prompt, openai)\n",
    "print(generated_text)"
   ]
  },
  {
   "cell_type": "code",
   "execution_count": null,
   "metadata": {},
   "outputs": [],
   "source": [
    "post_linkedin(access_token, generated_text, headers)"
   ]
  }
 ],
 "metadata": {
  "kernelspec": {
   "display_name": "openai",
   "language": "python",
   "name": "python3"
  },
  "language_info": {
   "codemirror_mode": {
    "name": "ipython",
    "version": 3
   },
   "file_extension": ".py",
   "mimetype": "text/x-python",
   "name": "python",
   "nbconvert_exporter": "python",
   "pygments_lexer": "ipython3",
   "version": "3.6.13"
  },
  "orig_nbformat": 4,
  "vscode": {
   "interpreter": {
    "hash": "061d92b3a4e0390376b822096ba7adb7750f5d2f136c432b5135bdc36f821403"
   }
  }
 },
 "nbformat": 4,
 "nbformat_minor": 2
}
